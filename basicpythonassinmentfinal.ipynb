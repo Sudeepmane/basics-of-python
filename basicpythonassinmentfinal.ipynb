{
 "cells": [
  {
   "cell_type": "markdown",
   "id": "9ab53e91-079c-49be-a3fb-4dcbab1a0056",
   "metadata": {},
   "source": [
    "# 1 Write a Python program that checks whether a given number is prime or not.\n",
    "# A prime number is a natural number greater than 1 that has no positive divisors other than 1 and itself."
   ]
  },
  {
   "cell_type": "code",
   "execution_count": 1,
   "id": "860ff085-8b9c-4961-9f0c-7c6ffddd8578",
   "metadata": {},
   "outputs": [
    {
     "name": "stdin",
     "output_type": "stream",
     "text": [
      "Enter a number:  12\n"
     ]
    },
    {
     "name": "stdout",
     "output_type": "stream",
     "text": [
      "12 is not a prime number.\n"
     ]
    }
   ],
   "source": [
    "def is_prime(number):\n",
    "    # Check if number is less than or equal to 1\n",
    "    if number <= 1:\n",
    "        return False\n",
    "    # Check for factors from 2 to sqrt(number)\n",
    "    for i in range(2, int(number ** 0.5) + 1):\n",
    "        if number % i == 0:\n",
    "            return False\n",
    "    return True\n",
    "\n",
    "# Input from user\n",
    "num = int(input(\"Enter a number: \"))\n",
    "\n",
    "# Check if the number is prime\n",
    "if is_prime(num):\n",
    "    print(f\"{num} is a prime number.\")\n",
    "else:\n",
    "    print(f\"{num} is not a prime number.\")\n"
   ]
  },
  {
   "cell_type": "code",
   "execution_count": null,
   "id": "9c98930e-a384-4ba7-a0e0-2837d884bc3d",
   "metadata": {},
   "outputs": [],
   "source": [
    "#The function is_prime checks whether the given number is greater than 1.\n",
    "#Then, it checks for divisors between 2 and the square root of the number (inclusive), which is sufficient to check for primality.\n",
    "#If any divisor is found, the function returns False, indicating the number is not prime.\n",
    "#If no divisors are found, the function returns True, indicating the number is prime."
   ]
  },
  {
   "cell_type": "markdown",
   "id": "f9a72388-db6d-4fff-8469-cce1e113f335",
   "metadata": {},
   "source": [
    "# Develop a Python program that generates two random numbers and asks the user to enter the product of these numbers. \n",
    "# The program should then check if the user's answer is correct and display an appropriate message."
   ]
  },
  {
   "cell_type": "code",
   "execution_count": 8,
   "id": "38159af9-214c-4354-afb7-3a78b40de28a",
   "metadata": {},
   "outputs": [
    {
     "name": "stdout",
     "output_type": "stream",
     "text": [
      "What is the product of 9 and 2?\n"
     ]
    },
    {
     "name": "stdin",
     "output_type": "stream",
     "text": [
      "Your answer:  10\n"
     ]
    },
    {
     "name": "stdout",
     "output_type": "stream",
     "text": [
      "Incorrect. The correct answer is 18.\n"
     ]
    }
   ],
   "source": [
    "import random\n",
    "\n",
    "def multiplication_quiz():\n",
    "    # Generate two random numbers between 1 and 10\n",
    "    num1 = random.randint(1, 10)\n",
    "    num2 = random.randint(1, 10)\n",
    "\n",
    "    # Ask the user to calculate the product\n",
    "    print(f\"What is the product of {num1} and {num2}?\")\n",
    "    user_answer = int(input(\"Your answer: \"))\n",
    "\n",
    "    # Check if the user's answer is correct\n",
    "    correct_answer = num1 * num2\n",
    "    if user_answer == correct_answer:\n",
    "        print(\"Correct! Well done!\")\n",
    "    else:\n",
    "        print(f\"Incorrect. The correct answer is {correct_answer}.\")\n",
    "\n",
    "# Call the quiz function\n",
    "multiplication_quiz()\n"
   ]
  },
  {
   "cell_type": "code",
   "execution_count": null,
   "id": "11f78f4e-a011-4ce3-93c9-9388f1afc706",
   "metadata": {},
   "outputs": [],
   "source": [
    "#The program generates two random integers between 1 and 10 using random.randint().\n",
    "#It asks the user to input the product of these two numbers.\n",
    "#The program checks if the user's input matches the correct answer, and then prints an appropriate message based on whether the answer is right or wrong."
   ]
  },
  {
   "cell_type": "markdown",
   "id": "929b39f0-43e3-4ad8-aa14-a271c49db4bb",
   "metadata": {},
   "source": [
    "# Create a Python script that prints the squares of all even or odd numbers within the range of 100 to 200. \n",
    "# Choose either even or odd numbers and document your choice in the code."
   ]
  },
  {
   "cell_type": "code",
   "execution_count": 10,
   "id": "5d8f2a76-a3e4-4a27-b40f-445b3ade308c",
   "metadata": {},
   "outputs": [
    {
     "name": "stdout",
     "output_type": "stream",
     "text": [
      "The square of 100 is 10000\n",
      "The square of 102 is 10404\n",
      "The square of 104 is 10816\n",
      "The square of 106 is 11236\n",
      "The square of 108 is 11664\n",
      "The square of 110 is 12100\n",
      "The square of 112 is 12544\n",
      "The square of 114 is 12996\n",
      "The square of 116 is 13456\n",
      "The square of 118 is 13924\n",
      "The square of 120 is 14400\n",
      "The square of 122 is 14884\n",
      "The square of 124 is 15376\n",
      "The square of 126 is 15876\n",
      "The square of 128 is 16384\n",
      "The square of 130 is 16900\n",
      "The square of 132 is 17424\n",
      "The square of 134 is 17956\n",
      "The square of 136 is 18496\n",
      "The square of 138 is 19044\n",
      "The square of 140 is 19600\n",
      "The square of 142 is 20164\n",
      "The square of 144 is 20736\n",
      "The square of 146 is 21316\n",
      "The square of 148 is 21904\n",
      "The square of 150 is 22500\n",
      "The square of 152 is 23104\n",
      "The square of 154 is 23716\n",
      "The square of 156 is 24336\n",
      "The square of 158 is 24964\n",
      "The square of 160 is 25600\n",
      "The square of 162 is 26244\n",
      "The square of 164 is 26896\n",
      "The square of 166 is 27556\n",
      "The square of 168 is 28224\n",
      "The square of 170 is 28900\n",
      "The square of 172 is 29584\n",
      "The square of 174 is 30276\n",
      "The square of 176 is 30976\n",
      "The square of 178 is 31684\n",
      "The square of 180 is 32400\n",
      "The square of 182 is 33124\n",
      "The square of 184 is 33856\n",
      "The square of 186 is 34596\n",
      "The square of 188 is 35344\n",
      "The square of 190 is 36100\n",
      "The square of 192 is 36864\n",
      "The square of 194 is 37636\n",
      "The square of 196 is 38416\n",
      "The square of 198 is 39204\n",
      "The square of 200 is 40000\n"
     ]
    }
   ],
   "source": [
    "# Python script to print the squares of all even numbers from 100 to 200\n",
    "# I chose to work with even numbers in this script\n",
    "\n",
    "def print_squares_of_even_numbers(start, end):\n",
    "    for num in range(start, end + 1):\n",
    "        if num % 2 == 0:  # Check if the number is even\n",
    "            print(f\"The square of {num} is {num ** 2}\")\n",
    "\n",
    "# Calling the function to print squares of even numbers between 100 and 200\n",
    "print_squares_of_even_numbers(100, 200)\n"
   ]
  },
  {
   "cell_type": "code",
   "execution_count": null,
   "id": "c1fdb8f3-ebf9-4a87-982e-2aec22062166",
   "metadata": {},
   "outputs": [],
   "source": [
    "#The function print_squares_of_even_numbers iterates through all the numbers from 100 to 200 (inclusive).\n",
    "#It checks if a number is even using num % 2 == 0.\n",
    "#If the number is even, it calculates and prints its square using num ** 2."
   ]
  },
  {
   "cell_type": "markdown",
   "id": "b45c7f27-efa2-4bed-a308-6ff032c44956",
   "metadata": {},
   "source": [
    "# Exercise 4: Word counter\n",
    "# write a program to count the number of words in a given text."
   ]
  },
  {
   "cell_type": "code",
   "execution_count": 16,
   "id": "bef0e16d-db48-4a43-8368-d9cf9bbd012a",
   "metadata": {},
   "outputs": [
    {
     "name": "stdin",
     "output_type": "stream",
     "text": [
      "Enter a text:  jupyter notebook\n"
     ]
    },
    {
     "name": "stdout",
     "output_type": "stream",
     "text": [
      "The number of words in the given text is: 2\n"
     ]
    }
   ],
   "source": [
    "def count_words(text):\n",
    "    # Split the text into words based on spaces\n",
    "    words = text.split()\n",
    "    # Count the number of words\n",
    "    return len(words)\n",
    "\n",
    "# Input from the user\n",
    "text_input = input(\"Enter a text: \")\n",
    "\n",
    "# Count the words in the text\n",
    "word_count = count_words(text_input)\n",
    "\n",
    "# Output the result\n",
    "print(f\"The number of words in the given text is: {word_count}\")\n"
   ]
  },
  {
   "cell_type": "code",
   "execution_count": null,
   "id": "e8d264a5-3e5f-4aa5-baf8-c6b86a6d287c",
   "metadata": {},
   "outputs": [],
   "source": [
    "#The count_words function splits the input text into a list of words using the split() method, which breaks the text by spaces by default.\n",
    "#The length of the resulting list gives the number of words.\n",
    "#The program prompts the user to enter a text and then prints the number of words."
   ]
  },
  {
   "cell_type": "markdown",
   "id": "a3c9f1f8-e520-4e52-bd2e-aba16e90182e",
   "metadata": {},
   "source": [
    "# Exercise 5: Check for Palindrome\n",
    "# Write a Python function called is_palindrome that takes a string as input and returns True if the string is a palindrome, and False otherwise. \n",
    "#  palindrome is a word, phrase, number, or other sequence of characters that reads the same forward and backward, \n",
    "#  ignoring spaces, punctuation, and capitalization."
   ]
  },
  {
   "cell_type": "code",
   "execution_count": 26,
   "id": "5aa56c02-d7b1-4af7-b5f8-828e9d25ae28",
   "metadata": {},
   "outputs": [
    {
     "name": "stdin",
     "output_type": "stream",
     "text": [
      "Enter a string:  vvvvv\n"
     ]
    },
    {
     "name": "stdout",
     "output_type": "stream",
     "text": [
      "The string is a palindrome.\n"
     ]
    }
   ],
   "source": [
    "import string\n",
    "\n",
    "def is_palindrome(s):\n",
    "    # Convert the string to lowercase and remove spaces and punctuation\n",
    "    s = s.lower()\n",
    "    s = ''.join(char for char in s if char.isalnum())  # Keep only alphanumeric characters\n",
    "    \n",
    "    # Check if the cleaned string is the same forward and backward\n",
    "    return s == s[::-1]\n",
    "\n",
    "# Example usage\n",
    "input_str = input(\"Enter a string: \")\n",
    "if is_palindrome(input_str):\n",
    "    print(\"The string is a palindrome.\")\n",
    "else:\n",
    "    print(\"The string is not a palindrome.\")\n"
   ]
  },
  {
   "cell_type": "code",
   "execution_count": 35,
   "id": "d3cf4e14-5336-4964-864d-3a1e538ec17a",
   "metadata": {},
   "outputs": [],
   "source": [
    "#Lowercasing: We first convert the input string to lowercase using s.lower() to ensure the check is case-insensitive.\n",
    "#Removing non-alphanumeric characters: We remove spaces, punctuation, and any other non-alphanumeric characters using a list comprehension with char.isalnum().\n",
    "#Palindrome check: We compare the cleaned string with its reverse (s[::-1]). If they are equal, the string is a palindrome."
   ]
  },
  {
   "cell_type": "code",
   "execution_count": null,
   "id": "bea81ca7-89dd-4256-bda1-40fc27282e35",
   "metadata": {},
   "outputs": [],
   "source": []
  }
 ],
 "metadata": {
  "kernelspec": {
   "display_name": "Python 3 (ipykernel)",
   "language": "python",
   "name": "python3"
  },
  "language_info": {
   "codemirror_mode": {
    "name": "ipython",
    "version": 3
   },
   "file_extension": ".py",
   "mimetype": "text/x-python",
   "name": "python",
   "nbconvert_exporter": "python",
   "pygments_lexer": "ipython3",
   "version": "3.12.4"
  }
 },
 "nbformat": 4,
 "nbformat_minor": 5
}
